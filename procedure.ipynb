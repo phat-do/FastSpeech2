{
 "cells": [
  {
   "cell_type": "markdown",
   "metadata": {},
   "source": [
    "## 1. Pre-pre-process data"
   ]
  },
  {
   "cell_type": "markdown",
   "metadata": {},
   "source": [
    "\n",
    "\n",
    "1. General\n",
    "- Split dataset into train (including val = 10 hours for source languages) and test (30 utterances)\n",
    "\n",
    "2. Audio data\n",
    "\n",
    "- Check data & audio format: WAV 16-bit, 22050 Hz\n",
    "- Trim leading and ending silence\n",
    "- Check total audio duration\n",
    "- Check audio utterance duration distribution (only for source data)\n",
    "\n",
    "3. Text data\n",
    "\n",
    "- Define one set of phonemes with ALL PHONEMES (source AND target languages)\n",
    "- Define one set of letters with ALL LETTERS\n",
    "- MFA: get lexicons\n",
    "- MFA: validate "
   ]
  },
  {
   "cell_type": "markdown",
   "metadata": {},
   "source": [
    "## 2. Pre-process data\n"
   ]
  },
  {
   "cell_type": "markdown",
   "metadata": {},
   "source": [
    "1. \n",
    "\n",
    "\n",
    "Run train.txt, val.txt and test.txt through filter to process all non-PHOIBLE phonemes\n",
    "Replace empty phonemes with \"sil\""
   ]
  }
 ],
 "metadata": {
  "kernelspec": {
   "display_name": "Python 3.8.3 64-bit ('FastSpeech2')",
   "language": "python",
   "name": "python3"
  },
  "language_info": {
   "name": "python",
   "version": "3.8.3"
  },
  "orig_nbformat": 4,
  "vscode": {
   "interpreter": {
    "hash": "09ed1a32b0ac06cd9a5e3e46b57ecf77724560dfee9a9fac05fae8709b164cca"
   }
  }
 },
 "nbformat": 4,
 "nbformat_minor": 2
}
